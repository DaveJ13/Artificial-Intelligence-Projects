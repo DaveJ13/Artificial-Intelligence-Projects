{
 "cells": [
  {
   "cell_type": "code",
   "execution_count": 1,
   "id": "0d10481a",
   "metadata": {},
   "outputs": [],
   "source": [
    "from tensorflow.keras.models import Sequential\n",
    "from tensorflow.keras.layers import Dense\n",
    "from tensorflow.keras.layers import LSTM\n",
    "from sklearn.preprocessing import MinMaxScaler\n",
    "from sklearn.metrics import mean_squared_error\n",
    "import numpy as np\n",
    "import matplotlib.pyplot as plt\n",
    "import pandas as pd"
   ]
  },
  {
   "cell_type": "code",
   "execution_count": 2,
   "id": "580c88cd",
   "metadata": {},
   "outputs": [
    {
     "data": {
      "text/plain": [
       "array([[112],\n",
       "       [118],\n",
       "       [132],\n",
       "       [129],\n",
       "       [121],\n",
       "       [135],\n",
       "       [148],\n",
       "       [148],\n",
       "       [136],\n",
       "       [119],\n",
       "       [104],\n",
       "       [118],\n",
       "       [115],\n",
       "       [126],\n",
       "       [141],\n",
       "       [135],\n",
       "       [125],\n",
       "       [149],\n",
       "       [170],\n",
       "       [170],\n",
       "       [158],\n",
       "       [133],\n",
       "       [114],\n",
       "       [140],\n",
       "       [145],\n",
       "       [150],\n",
       "       [178],\n",
       "       [163],\n",
       "       [172],\n",
       "       [178],\n",
       "       [199],\n",
       "       [199],\n",
       "       [184],\n",
       "       [162],\n",
       "       [146],\n",
       "       [166],\n",
       "       [171],\n",
       "       [180],\n",
       "       [193],\n",
       "       [181],\n",
       "       [183],\n",
       "       [218],\n",
       "       [230],\n",
       "       [242],\n",
       "       [209],\n",
       "       [191],\n",
       "       [172],\n",
       "       [194],\n",
       "       [196],\n",
       "       [196],\n",
       "       [236],\n",
       "       [235],\n",
       "       [229],\n",
       "       [243],\n",
       "       [264],\n",
       "       [272],\n",
       "       [237],\n",
       "       [211],\n",
       "       [180],\n",
       "       [201],\n",
       "       [204],\n",
       "       [188],\n",
       "       [235],\n",
       "       [227],\n",
       "       [234],\n",
       "       [264],\n",
       "       [302],\n",
       "       [293],\n",
       "       [259],\n",
       "       [229],\n",
       "       [203],\n",
       "       [229],\n",
       "       [242],\n",
       "       [233],\n",
       "       [267],\n",
       "       [269],\n",
       "       [270],\n",
       "       [315],\n",
       "       [364],\n",
       "       [347],\n",
       "       [312],\n",
       "       [274],\n",
       "       [237],\n",
       "       [278],\n",
       "       [284],\n",
       "       [277],\n",
       "       [317],\n",
       "       [313],\n",
       "       [318],\n",
       "       [374],\n",
       "       [413],\n",
       "       [405],\n",
       "       [355],\n",
       "       [306],\n",
       "       [271],\n",
       "       [306],\n",
       "       [315],\n",
       "       [301],\n",
       "       [356],\n",
       "       [348],\n",
       "       [355],\n",
       "       [422],\n",
       "       [465],\n",
       "       [467],\n",
       "       [404],\n",
       "       [347],\n",
       "       [305],\n",
       "       [336],\n",
       "       [340],\n",
       "       [318],\n",
       "       [362],\n",
       "       [348],\n",
       "       [363],\n",
       "       [435],\n",
       "       [491],\n",
       "       [505],\n",
       "       [404],\n",
       "       [359],\n",
       "       [310],\n",
       "       [337],\n",
       "       [360],\n",
       "       [342],\n",
       "       [406],\n",
       "       [396],\n",
       "       [420],\n",
       "       [472],\n",
       "       [548],\n",
       "       [559],\n",
       "       [463],\n",
       "       [407],\n",
       "       [362],\n",
       "       [405],\n",
       "       [417],\n",
       "       [391],\n",
       "       [419],\n",
       "       [461],\n",
       "       [472],\n",
       "       [535],\n",
       "       [622],\n",
       "       [606],\n",
       "       [508],\n",
       "       [461],\n",
       "       [390],\n",
       "       [432]], dtype=int64)"
      ]
     },
     "execution_count": 2,
     "metadata": {},
     "output_type": "execute_result"
    }
   ],
   "source": [
    "# I split the data into two columns in Excel\n",
    "df = pd.read_csv(\"airline-passengers.csv\")\n",
    "df = df[\"Passengers\"]\n",
    "df = np.array(df).reshape(-1,1)\n",
    "df"
   ]
  },
  {
   "cell_type": "code",
   "execution_count": 3,
   "id": "9fff0753",
   "metadata": {},
   "outputs": [
    {
     "data": {
      "text/plain": [
       "(144, 1)"
      ]
     },
     "execution_count": 3,
     "metadata": {},
     "output_type": "execute_result"
    }
   ],
   "source": [
    "df.shape"
   ]
  },
  {
   "cell_type": "code",
   "execution_count": 4,
   "id": "c9615fe1",
   "metadata": {},
   "outputs": [
    {
     "data": {
      "text/plain": [
       "(0.0, 1.0)"
      ]
     },
     "execution_count": 4,
     "metadata": {},
     "output_type": "execute_result"
    }
   ],
   "source": [
    "# Normalize the data\n",
    "sc = MinMaxScaler()\n",
    "df = sc.fit_transform(df)\n",
    "df.min(), df.max()"
   ]
  },
  {
   "cell_type": "code",
   "execution_count": 5,
   "id": "049dca3d",
   "metadata": {},
   "outputs": [],
   "source": [
    "# Split the dataset so we can make a new dataset\n",
    "train = 93\n",
    "test = 51\n",
    "train, test = df[0:train,:], df[train:len(df),:]"
   ]
  },
  {
   "cell_type": "code",
   "execution_count": 6,
   "id": "5b32fef4",
   "metadata": {},
   "outputs": [
    {
     "name": "stdout",
     "output_type": "stream",
     "text": [
      "(93, 1)\n",
      "(51, 1)\n"
     ]
    }
   ],
   "source": [
    "print(train.shape)\n",
    "print(test.shape)"
   ]
  },
  {
   "cell_type": "code",
   "execution_count": 7,
   "id": "ee757375",
   "metadata": {},
   "outputs": [],
   "source": [
    "def get_data(df, look_back):\n",
    "    dataX, dataY = [],[]\n",
    "    for i in range(len(df) - look_back- 1):\n",
    "        a = df[i:(i + look_back), 0]\n",
    "        dataX.append(a)\n",
    "        dataY.append(df[i + look_back, 0])\n",
    "    return np.array(dataX), np.array(dataY)"
   ]
  },
  {
   "cell_type": "code",
   "execution_count": 8,
   "id": "f580845d",
   "metadata": {},
   "outputs": [],
   "source": [
    "look_back = 1\n",
    "x_train, y_train = get_data(train, look_back)"
   ]
  },
  {
   "cell_type": "code",
   "execution_count": 9,
   "id": "f2e842de",
   "metadata": {},
   "outputs": [
    {
     "name": "stdout",
     "output_type": "stream",
     "text": [
      "(91, 1)\n",
      "(91,)\n"
     ]
    }
   ],
   "source": [
    "print(x_train.shape)\n",
    "print(y_train.shape)"
   ]
  },
  {
   "cell_type": "code",
   "execution_count": 10,
   "id": "9034c4a1",
   "metadata": {},
   "outputs": [
    {
     "data": {
      "text/plain": [
       "array([[0.01544402],\n",
       "       [0.02702703],\n",
       "       [0.05405405],\n",
       "       [0.04826255],\n",
       "       [0.03281853],\n",
       "       [0.05984556],\n",
       "       [0.08494208],\n",
       "       [0.08494208],\n",
       "       [0.06177606],\n",
       "       [0.02895753],\n",
       "       [0.        ],\n",
       "       [0.02702703],\n",
       "       [0.02123552],\n",
       "       [0.04247104],\n",
       "       [0.07142857],\n",
       "       [0.05984556],\n",
       "       [0.04054054],\n",
       "       [0.08687259],\n",
       "       [0.12741313],\n",
       "       [0.12741313],\n",
       "       [0.1042471 ],\n",
       "       [0.05598456],\n",
       "       [0.01930502],\n",
       "       [0.06949807],\n",
       "       [0.07915058],\n",
       "       [0.08880309],\n",
       "       [0.14285714],\n",
       "       [0.11389961],\n",
       "       [0.13127413],\n",
       "       [0.14285714],\n",
       "       [0.18339768],\n",
       "       [0.18339768],\n",
       "       [0.15444015],\n",
       "       [0.11196911],\n",
       "       [0.08108108],\n",
       "       [0.11969112],\n",
       "       [0.12934363],\n",
       "       [0.14671815],\n",
       "       [0.17181467],\n",
       "       [0.14864865],\n",
       "       [0.15250965],\n",
       "       [0.22007722],\n",
       "       [0.24324324],\n",
       "       [0.26640927],\n",
       "       [0.2027027 ],\n",
       "       [0.16795367],\n",
       "       [0.13127413],\n",
       "       [0.17374517],\n",
       "       [0.17760618],\n",
       "       [0.17760618],\n",
       "       [0.25482625],\n",
       "       [0.25289575],\n",
       "       [0.24131274],\n",
       "       [0.26833977],\n",
       "       [0.30888031],\n",
       "       [0.32432432],\n",
       "       [0.25675676],\n",
       "       [0.20656371],\n",
       "       [0.14671815],\n",
       "       [0.18725869],\n",
       "       [0.19305019],\n",
       "       [0.16216216],\n",
       "       [0.25289575],\n",
       "       [0.23745174],\n",
       "       [0.25096525],\n",
       "       [0.30888031],\n",
       "       [0.38223938],\n",
       "       [0.36486486],\n",
       "       [0.2992278 ],\n",
       "       [0.24131274],\n",
       "       [0.19111969],\n",
       "       [0.24131274],\n",
       "       [0.26640927],\n",
       "       [0.24903475],\n",
       "       [0.31467181],\n",
       "       [0.31853282],\n",
       "       [0.32046332],\n",
       "       [0.40733591],\n",
       "       [0.5019305 ],\n",
       "       [0.46911197],\n",
       "       [0.4015444 ],\n",
       "       [0.32818533],\n",
       "       [0.25675676],\n",
       "       [0.33590734],\n",
       "       [0.34749035],\n",
       "       [0.33397683],\n",
       "       [0.41119691],\n",
       "       [0.4034749 ],\n",
       "       [0.41312741],\n",
       "       [0.52123552],\n",
       "       [0.5965251 ]])"
      ]
     },
     "execution_count": 10,
     "metadata": {},
     "output_type": "execute_result"
    }
   ],
   "source": [
    "x_train"
   ]
  },
  {
   "cell_type": "code",
   "execution_count": 11,
   "id": "bf5e681d",
   "metadata": {},
   "outputs": [
    {
     "data": {
      "text/plain": [
       "array([0.02702703, 0.05405405, 0.04826255, 0.03281853, 0.05984556,\n",
       "       0.08494208, 0.08494208, 0.06177606, 0.02895753, 0.        ,\n",
       "       0.02702703, 0.02123552, 0.04247104, 0.07142857, 0.05984556,\n",
       "       0.04054054, 0.08687259, 0.12741313, 0.12741313, 0.1042471 ,\n",
       "       0.05598456, 0.01930502, 0.06949807, 0.07915058, 0.08880309,\n",
       "       0.14285714, 0.11389961, 0.13127413, 0.14285714, 0.18339768,\n",
       "       0.18339768, 0.15444015, 0.11196911, 0.08108108, 0.11969112,\n",
       "       0.12934363, 0.14671815, 0.17181467, 0.14864865, 0.15250965,\n",
       "       0.22007722, 0.24324324, 0.26640927, 0.2027027 , 0.16795367,\n",
       "       0.13127413, 0.17374517, 0.17760618, 0.17760618, 0.25482625,\n",
       "       0.25289575, 0.24131274, 0.26833977, 0.30888031, 0.32432432,\n",
       "       0.25675676, 0.20656371, 0.14671815, 0.18725869, 0.19305019,\n",
       "       0.16216216, 0.25289575, 0.23745174, 0.25096525, 0.30888031,\n",
       "       0.38223938, 0.36486486, 0.2992278 , 0.24131274, 0.19111969,\n",
       "       0.24131274, 0.26640927, 0.24903475, 0.31467181, 0.31853282,\n",
       "       0.32046332, 0.40733591, 0.5019305 , 0.46911197, 0.4015444 ,\n",
       "       0.32818533, 0.25675676, 0.33590734, 0.34749035, 0.33397683,\n",
       "       0.41119691, 0.4034749 , 0.41312741, 0.52123552, 0.5965251 ,\n",
       "       0.58108108])"
      ]
     },
     "execution_count": 11,
     "metadata": {},
     "output_type": "execute_result"
    }
   ],
   "source": [
    "y_train"
   ]
  },
  {
   "cell_type": "code",
   "execution_count": 12,
   "id": "48bdd35b",
   "metadata": {},
   "outputs": [],
   "source": [
    "x_test, y_test = get_data(test, look_back)"
   ]
  },
  {
   "cell_type": "code",
   "execution_count": 13,
   "id": "424408ad",
   "metadata": {},
   "outputs": [
    {
     "name": "stdout",
     "output_type": "stream",
     "text": [
      "(49, 1)\n",
      "(49,)\n"
     ]
    }
   ],
   "source": [
    "print(x_test.shape)\n",
    "print(y_test.shape)"
   ]
  },
  {
   "cell_type": "code",
   "execution_count": 14,
   "id": "e138276b",
   "metadata": {},
   "outputs": [
    {
     "data": {
      "text/plain": [
       "array([[0.38996139],\n",
       "       [0.32239382],\n",
       "       [0.38996139],\n",
       "       [0.40733591],\n",
       "       [0.38030888],\n",
       "       [0.48648649],\n",
       "       [0.47104247],\n",
       "       [0.48455598],\n",
       "       [0.61389961],\n",
       "       [0.6969112 ],\n",
       "       [0.7007722 ],\n",
       "       [0.57915058],\n",
       "       [0.46911197],\n",
       "       [0.38803089],\n",
       "       [0.44787645],\n",
       "       [0.45559846],\n",
       "       [0.41312741],\n",
       "       [0.4980695 ],\n",
       "       [0.47104247],\n",
       "       [0.5       ],\n",
       "       [0.63899614],\n",
       "       [0.74710425],\n",
       "       [0.77413127],\n",
       "       [0.57915058],\n",
       "       [0.49227799],\n",
       "       [0.3976834 ],\n",
       "       [0.44980695],\n",
       "       [0.49420849],\n",
       "       [0.45945946],\n",
       "       [0.58301158],\n",
       "       [0.56370656],\n",
       "       [0.61003861],\n",
       "       [0.71042471],\n",
       "       [0.85714286],\n",
       "       [0.87837838],\n",
       "       [0.69305019],\n",
       "       [0.58494208],\n",
       "       [0.4980695 ],\n",
       "       [0.58108108],\n",
       "       [0.6042471 ],\n",
       "       [0.55405405],\n",
       "       [0.60810811],\n",
       "       [0.68918919],\n",
       "       [0.71042471],\n",
       "       [0.83204633],\n",
       "       [1.        ],\n",
       "       [0.96911197],\n",
       "       [0.77992278],\n",
       "       [0.68918919]])"
      ]
     },
     "execution_count": 14,
     "metadata": {},
     "output_type": "execute_result"
    }
   ],
   "source": [
    "x_test"
   ]
  },
  {
   "cell_type": "code",
   "execution_count": 15,
   "id": "4c104461",
   "metadata": {},
   "outputs": [
    {
     "data": {
      "text/plain": [
       "array([0.32239382, 0.38996139, 0.40733591, 0.38030888, 0.48648649,\n",
       "       0.47104247, 0.48455598, 0.61389961, 0.6969112 , 0.7007722 ,\n",
       "       0.57915058, 0.46911197, 0.38803089, 0.44787645, 0.45559846,\n",
       "       0.41312741, 0.4980695 , 0.47104247, 0.5       , 0.63899614,\n",
       "       0.74710425, 0.77413127, 0.57915058, 0.49227799, 0.3976834 ,\n",
       "       0.44980695, 0.49420849, 0.45945946, 0.58301158, 0.56370656,\n",
       "       0.61003861, 0.71042471, 0.85714286, 0.87837838, 0.69305019,\n",
       "       0.58494208, 0.4980695 , 0.58108108, 0.6042471 , 0.55405405,\n",
       "       0.60810811, 0.68918919, 0.71042471, 0.83204633, 1.        ,\n",
       "       0.96911197, 0.77992278, 0.68918919, 0.55212355])"
      ]
     },
     "execution_count": 15,
     "metadata": {},
     "output_type": "execute_result"
    }
   ],
   "source": [
    "y_test"
   ]
  },
  {
   "cell_type": "code",
   "execution_count": 16,
   "id": "9f055dbc",
   "metadata": {},
   "outputs": [],
   "source": [
    "# Turn data into a 3D dataset\n",
    "x_train = x_train.reshape(x_train.shape[0], x_train.shape[1], 1)\n",
    "x_test = x_test.reshape(x_test.shape[0], x_test.shape[1], 1)"
   ]
  },
  {
   "cell_type": "code",
   "execution_count": 17,
   "id": "3e491570",
   "metadata": {},
   "outputs": [
    {
     "name": "stdout",
     "output_type": "stream",
     "text": [
      "(91, 1, 1)\n",
      "(49, 1, 1)\n"
     ]
    }
   ],
   "source": [
    "print(x_train.shape)\n",
    "print(x_test.shape)"
   ]
  },
  {
   "cell_type": "code",
   "execution_count": 18,
   "id": "0dc63f21",
   "metadata": {},
   "outputs": [],
   "source": [
    "# Build model\n",
    "model = Sequential()\n",
    "model.add(LSTM(5, input_shape = (1, look_back)))\n",
    "model.add(Dense(1))\n",
    "model.compile(loss = \"mean_squared_error\", optimizer = \"adam\", metrics = [\"accuracy\"])"
   ]
  },
  {
   "cell_type": "code",
   "execution_count": 19,
   "id": "0273aade",
   "metadata": {},
   "outputs": [
    {
     "name": "stdout",
     "output_type": "stream",
     "text": [
      "Model: \"sequential\"\n",
      "_________________________________________________________________\n",
      " Layer (type)                Output Shape              Param #   \n",
      "=================================================================\n",
      " lstm (LSTM)                 (None, 5)                 140       \n",
      "                                                                 \n",
      " dense (Dense)               (None, 1)                 6         \n",
      "                                                                 \n",
      "=================================================================\n",
      "Total params: 146\n",
      "Trainable params: 146\n",
      "Non-trainable params: 0\n",
      "_________________________________________________________________\n"
     ]
    }
   ],
   "source": [
    "model.summary()"
   ]
  },
  {
   "cell_type": "code",
   "execution_count": 20,
   "id": "f34be01a",
   "metadata": {},
   "outputs": [
    {
     "name": "stdout",
     "output_type": "stream",
     "text": [
      "Epoch 1/100\n",
      "91/91 [==============================] - 2s 2ms/step - loss: 0.0430 - accuracy: 0.0110\n",
      "Epoch 2/100\n",
      "91/91 [==============================] - 0s 2ms/step - loss: 0.0209 - accuracy: 0.0110\n",
      "Epoch 3/100\n",
      "91/91 [==============================] - 0s 2ms/step - loss: 0.0162 - accuracy: 0.0110\n",
      "Epoch 4/100\n",
      "91/91 [==============================] - 0s 2ms/step - loss: 0.0151 - accuracy: 0.0110\n",
      "Epoch 5/100\n",
      "91/91 [==============================] - 0s 2ms/step - loss: 0.0141 - accuracy: 0.0110\n",
      "Epoch 6/100\n",
      "91/91 [==============================] - ETA: 0s - loss: 0.0144 - accuracy: 0.0141   - 0s 2ms/step - loss: 0.0132 - accuracy: 0.0110\n",
      "Epoch 7/100\n",
      "91/91 [==============================] - 0s 2ms/step - loss: 0.0123 - accuracy: 0.0110\n",
      "Epoch 8/100\n",
      "91/91 [==============================] - 0s 2ms/step - loss: 0.0115 - accuracy: 0.0110\n",
      "Epoch 9/100\n",
      "91/91 [==============================] - 0s 2ms/step - loss: 0.0105 - accuracy: 0.0110\n",
      "Epoch 10/100\n",
      "91/91 [==============================] - 0s 2ms/step - loss: 0.0095 - accuracy: 0.0110\n",
      "Epoch 11/100\n",
      "91/91 [==============================] - 0s 2ms/step - loss: 0.0086 - accuracy: 0.0110\n",
      "Epoch 12/100\n",
      "91/91 [==============================] - 0s 2ms/step - loss: 0.0076 - accuracy: 0.0110\n",
      "Epoch 13/100\n",
      "91/91 [==============================] - 0s 2ms/step - loss: 0.0068 - accuracy: 0.0110\n",
      "Epoch 14/100\n",
      "91/91 [==============================] - 0s 2ms/step - loss: 0.0059 - accuracy: 0.0110\n",
      "Epoch 15/100\n",
      "91/91 [==============================] - 0s 2ms/step - loss: 0.0052 - accuracy: 0.0110\n",
      "Epoch 16/100\n",
      "91/91 [==============================] - 0s 2ms/step - loss: 0.0044 - accuracy: 0.0110\n",
      "Epoch 17/100\n",
      "91/91 [==============================] - 0s 2ms/step - loss: 0.0039 - accuracy: 0.0110\n",
      "Epoch 18/100\n",
      "91/91 [==============================] - 0s 2ms/step - loss: 0.0033 - accuracy: 0.0110\n",
      "Epoch 19/100\n",
      "91/91 [==============================] - 0s 2ms/step - loss: 0.0029 - accuracy: 0.0110\n",
      "Epoch 20/100\n",
      "91/91 [==============================] - 0s 2ms/step - loss: 0.0026 - accuracy: 0.0110\n",
      "Epoch 21/100\n",
      "91/91 [==============================] - 0s 2ms/step - loss: 0.0024 - accuracy: 0.0110\n",
      "Epoch 22/100\n",
      "91/91 [==============================] - 0s 2ms/step - loss: 0.0021 - accuracy: 0.0110\n",
      "Epoch 23/100\n",
      "91/91 [==============================] - 0s 2ms/step - loss: 0.0021 - accuracy: 0.0110\n",
      "Epoch 24/100\n",
      "91/91 [==============================] - 0s 2ms/step - loss: 0.0020 - accuracy: 0.0110\n",
      "Epoch 25/100\n",
      "91/91 [==============================] - 0s 2ms/step - loss: 0.0019 - accuracy: 0.0110\n",
      "Epoch 26/100\n",
      "91/91 [==============================] - 0s 2ms/step - loss: 0.0019 - accuracy: 0.0110\n",
      "Epoch 27/100\n",
      "91/91 [==============================] - 0s 2ms/step - loss: 0.0019 - accuracy: 0.0110\n",
      "Epoch 28/100\n",
      "91/91 [==============================] - 0s 2ms/step - loss: 0.0018 - accuracy: 0.0110\n",
      "Epoch 29/100\n",
      "91/91 [==============================] - 0s 2ms/step - loss: 0.0018 - accuracy: 0.0110\n",
      "Epoch 30/100\n",
      "91/91 [==============================] - 0s 2ms/step - loss: 0.0018 - accuracy: 0.0110\n",
      "Epoch 31/100\n",
      "91/91 [==============================] - 0s 2ms/step - loss: 0.0019 - accuracy: 0.0110\n",
      "Epoch 32/100\n",
      "91/91 [==============================] - 0s 3ms/step - loss: 0.0018 - accuracy: 0.0110\n",
      "Epoch 33/100\n",
      "91/91 [==============================] - 0s 2ms/step - loss: 0.0019 - accuracy: 0.0110\n",
      "Epoch 34/100\n",
      "91/91 [==============================] - 0s 2ms/step - loss: 0.0018 - accuracy: 0.0110\n",
      "Epoch 35/100\n",
      "91/91 [==============================] - 0s 2ms/step - loss: 0.0019 - accuracy: 0.0110\n",
      "Epoch 36/100\n",
      "91/91 [==============================] - 0s 2ms/step - loss: 0.0019 - accuracy: 0.0110\n",
      "Epoch 37/100\n",
      "91/91 [==============================] - 0s 2ms/step - loss: 0.0019 - accuracy: 0.0110\n",
      "Epoch 38/100\n",
      "91/91 [==============================] - 0s 2ms/step - loss: 0.0019 - accuracy: 0.0110\n",
      "Epoch 39/100\n",
      "91/91 [==============================] - 0s 2ms/step - loss: 0.0019 - accuracy: 0.0110\n",
      "Epoch 40/100\n",
      "91/91 [==============================] - 0s 2ms/step - loss: 0.0019 - accuracy: 0.0110\n",
      "Epoch 41/100\n",
      "91/91 [==============================] - 0s 2ms/step - loss: 0.0018 - accuracy: 0.0110\n",
      "Epoch 42/100\n",
      "91/91 [==============================] - 0s 2ms/step - loss: 0.0019 - accuracy: 0.0110\n",
      "Epoch 43/100\n",
      "91/91 [==============================] - 0s 2ms/step - loss: 0.0019 - accuracy: 0.0110\n",
      "Epoch 44/100\n",
      "91/91 [==============================] - 0s 2ms/step - loss: 0.0019 - accuracy: 0.0110\n",
      "Epoch 45/100\n",
      "91/91 [==============================] - 0s 2ms/step - loss: 0.0018 - accuracy: 0.0110\n",
      "Epoch 46/100\n",
      "91/91 [==============================] - 0s 2ms/step - loss: 0.0019 - accuracy: 0.0110\n",
      "Epoch 47/100\n",
      "91/91 [==============================] - 0s 2ms/step - loss: 0.0019 - accuracy: 0.0110\n",
      "Epoch 48/100\n",
      "91/91 [==============================] - 0s 2ms/step - loss: 0.0019 - accuracy: 0.0110\n",
      "Epoch 49/100\n",
      "91/91 [==============================] - 0s 2ms/step - loss: 0.0019 - accuracy: 0.0110\n",
      "Epoch 50/100\n",
      "91/91 [==============================] - 0s 2ms/step - loss: 0.0019 - accuracy: 0.0110\n",
      "Epoch 51/100\n",
      "91/91 [==============================] - 0s 2ms/step - loss: 0.0019 - accuracy: 0.0110\n",
      "Epoch 52/100\n",
      "91/91 [==============================] - 0s 2ms/step - loss: 0.0018 - accuracy: 0.0110\n",
      "Epoch 53/100\n",
      "91/91 [==============================] - 0s 2ms/step - loss: 0.0019 - accuracy: 0.0110\n",
      "Epoch 54/100\n",
      "91/91 [==============================] - 0s 2ms/step - loss: 0.0018 - accuracy: 0.0110\n",
      "Epoch 55/100\n",
      "91/91 [==============================] - 0s 2ms/step - loss: 0.0018 - accuracy: 0.0110\n",
      "Epoch 56/100\n",
      "91/91 [==============================] - 0s 2ms/step - loss: 0.0018 - accuracy: 0.0110\n",
      "Epoch 57/100\n",
      "91/91 [==============================] - 0s 3ms/step - loss: 0.0018 - accuracy: 0.0110\n",
      "Epoch 58/100\n",
      "91/91 [==============================] - 0s 3ms/step - loss: 0.0019 - accuracy: 0.0110\n",
      "Epoch 59/100\n",
      "91/91 [==============================] - 0s 3ms/step - loss: 0.0019 - accuracy: 0.0110\n",
      "Epoch 60/100\n",
      "91/91 [==============================] - 0s 3ms/step - loss: 0.0019 - accuracy: 0.0110\n",
      "Epoch 61/100\n",
      "91/91 [==============================] - 0s 3ms/step - loss: 0.0018 - accuracy: 0.0110\n",
      "Epoch 62/100\n",
      "91/91 [==============================] - 0s 3ms/step - loss: 0.0018 - accuracy: 0.0110\n",
      "Epoch 63/100\n",
      "91/91 [==============================] - 0s 3ms/step - loss: 0.0019 - accuracy: 0.0110\n",
      "Epoch 64/100\n",
      "91/91 [==============================] - 0s 3ms/step - loss: 0.0018 - accuracy: 0.0110\n",
      "Epoch 65/100\n",
      "91/91 [==============================] - 0s 3ms/step - loss: 0.0018 - accuracy: 0.0110\n",
      "Epoch 66/100\n",
      "91/91 [==============================] - 0s 2ms/step - loss: 0.0019 - accuracy: 0.0110\n",
      "Epoch 67/100\n",
      "91/91 [==============================] - 0s 2ms/step - loss: 0.0018 - accuracy: 0.0110\n",
      "Epoch 68/100\n",
      "91/91 [==============================] - 0s 2ms/step - loss: 0.0019 - accuracy: 0.0110e+ - ETA: 0s - loss: 0.0015 - accuracy: 0.0400  \n",
      "Epoch 69/100\n",
      "91/91 [==============================] - 0s 2ms/step - loss: 0.0018 - accuracy: 0.0110\n",
      "Epoch 70/100\n",
      "91/91 [==============================] - 0s 2ms/step - loss: 0.0019 - accuracy: 0.0110\n",
      "Epoch 71/100\n",
      "91/91 [==============================] - 0s 2ms/step - loss: 0.0019 - accuracy: 0.0110\n",
      "Epoch 72/100\n",
      "91/91 [==============================] - 0s 2ms/step - loss: 0.0019 - accuracy: 0.0110\n",
      "Epoch 73/100\n",
      "91/91 [==============================] - 0s 2ms/step - loss: 0.0020 - accuracy: 0.0110\n",
      "Epoch 74/100\n",
      "91/91 [==============================] - 0s 2ms/step - loss: 0.0019 - accuracy: 0.0110\n",
      "Epoch 75/100\n",
      "91/91 [==============================] - 0s 2ms/step - loss: 0.0018 - accuracy: 0.0110\n",
      "Epoch 76/100\n",
      "91/91 [==============================] - 0s 2ms/step - loss: 0.0018 - accuracy: 0.0110\n",
      "Epoch 77/100\n",
      "91/91 [==============================] - 0s 2ms/step - loss: 0.0018 - accuracy: 0.0110\n",
      "Epoch 78/100\n",
      "91/91 [==============================] - 0s 2ms/step - loss: 0.0018 - accuracy: 0.0110\n",
      "Epoch 79/100\n",
      "91/91 [==============================] - 0s 2ms/step - loss: 0.0019 - accuracy: 0.0110\n",
      "Epoch 80/100\n",
      "91/91 [==============================] - 0s 2ms/step - loss: 0.0019 - accuracy: 0.0110\n",
      "Epoch 81/100\n",
      "91/91 [==============================] - 0s 2ms/step - loss: 0.0018 - accuracy: 0.0110\n",
      "Epoch 82/100\n"
     ]
    },
    {
     "name": "stdout",
     "output_type": "stream",
     "text": [
      "91/91 [==============================] - 0s 2ms/step - loss: 0.0018 - accuracy: 0.0110\n",
      "Epoch 83/100\n",
      "91/91 [==============================] - 0s 2ms/step - loss: 0.0019 - accuracy: 0.0110\n",
      "Epoch 84/100\n",
      "91/91 [==============================] - 0s 2ms/step - loss: 0.0018 - accuracy: 0.0110\n",
      "Epoch 85/100\n",
      "91/91 [==============================] - 0s 2ms/step - loss: 0.0019 - accuracy: 0.0110\n",
      "Epoch 86/100\n",
      "91/91 [==============================] - 0s 2ms/step - loss: 0.0018 - accuracy: 0.0110 ETA: 0s - loss: 0.0017 - accuracy: 0.04\n",
      "Epoch 87/100\n",
      "91/91 [==============================] - 0s 2ms/step - loss: 0.0019 - accuracy: 0.0110\n",
      "Epoch 88/100\n",
      "91/91 [==============================] - 0s 2ms/step - loss: 0.0018 - accuracy: 0.0110\n",
      "Epoch 89/100\n",
      "91/91 [==============================] - 0s 2ms/step - loss: 0.0019 - accuracy: 0.0110\n",
      "Epoch 90/100\n",
      "91/91 [==============================] - 0s 2ms/step - loss: 0.0018 - accuracy: 0.0110\n",
      "Epoch 91/100\n",
      "91/91 [==============================] - 0s 2ms/step - loss: 0.0019 - accuracy: 0.0110\n",
      "Epoch 92/100\n",
      "91/91 [==============================] - 0s 2ms/step - loss: 0.0018 - accuracy: 0.0110\n",
      "Epoch 93/100\n",
      "91/91 [==============================] - 0s 2ms/step - loss: 0.0019 - accuracy: 0.0110\n",
      "Epoch 94/100\n",
      "91/91 [==============================] - 0s 2ms/step - loss: 0.0018 - accuracy: 0.0110\n",
      "Epoch 95/100\n",
      "91/91 [==============================] - 0s 2ms/step - loss: 0.0019 - accuracy: 0.0110\n",
      "Epoch 96/100\n",
      "91/91 [==============================] - 0s 2ms/step - loss: 0.0018 - accuracy: 0.0110\n",
      "Epoch 97/100\n",
      "91/91 [==============================] - 0s 2ms/step - loss: 0.0018 - accuracy: 0.0110\n",
      "Epoch 98/100\n",
      "91/91 [==============================] - 0s 2ms/step - loss: 0.0019 - accuracy: 0.0110\n",
      "Epoch 99/100\n",
      "91/91 [==============================] - 0s 2ms/step - loss: 0.0019 - accuracy: 0.0110\n",
      "Epoch 100/100\n",
      "91/91 [==============================] - 0s 2ms/step - loss: 0.0018 - accuracy: 0.0110\n"
     ]
    },
    {
     "data": {
      "text/plain": [
       "<keras.callbacks.History at 0x255bc16cbb0>"
      ]
     },
     "execution_count": 20,
     "metadata": {},
     "output_type": "execute_result"
    }
   ],
   "source": [
    "# Fit the model\n",
    "model.fit(x_train, y_train, epochs = 100, batch_size = 1)"
   ]
  },
  {
   "cell_type": "code",
   "execution_count": 21,
   "id": "71de0e1f",
   "metadata": {},
   "outputs": [],
   "source": [
    "y_pred = model.predict(x_test)"
   ]
  },
  {
   "cell_type": "code",
   "execution_count": 22,
   "id": "2603f39e",
   "metadata": {},
   "outputs": [],
   "source": [
    "# Bring values back to original values\n",
    "y_pred = sc.inverse_transform(y_pred)"
   ]
  },
  {
   "cell_type": "code",
   "execution_count": 23,
   "id": "b76982c1",
   "metadata": {},
   "outputs": [],
   "source": [
    "y_test = np.array(y_test)\n",
    "y_test = y_test.reshape(-1,1)\n",
    "y_test = sc.inverse_transform(y_test)"
   ]
  },
  {
   "cell_type": "code",
   "execution_count": 24,
   "id": "4e180b56",
   "metadata": {},
   "outputs": [
    {
     "data": {
      "image/png": "[encoded data removed]",
      "text/plain": [
       "<Figure size 1008x360 with 1 Axes>"
      ]
     },
     "metadata": {
      "needs_background": "light"
     },
     "output_type": "display_data"
    }
   ],
   "source": [
    "plt.figure(figsize = (14,5))\n",
    "plt.plot(y_test, label = \"Actual Number of Passengers\")\n",
    "plt.plot(y_pred, label = \"Predicted Number of Passengers\")\n",
    "plt.ylabel(\"Number of Passengers\")\n",
    "plt.legend()\n",
    "plt.show()"
   ]
  },
  {
   "cell_type": "code",
   "execution_count": 25,
   "id": "384a9d62",
   "metadata": {},
   "outputs": [
    {
     "data": {
      "text/plain": [
       "array([[112],\n",
       "       [118],\n",
       "       [132],\n",
       "       [129],\n",
       "       [121],\n",
       "       [135],\n",
       "       [148],\n",
       "       [148],\n",
       "       [136],\n",
       "       [119],\n",
       "       [104],\n",
       "       [118],\n",
       "       [115],\n",
       "       [126],\n",
       "       [141],\n",
       "       [135],\n",
       "       [125],\n",
       "       [149],\n",
       "       [170],\n",
       "       [170],\n",
       "       [158],\n",
       "       [133],\n",
       "       [114],\n",
       "       [140],\n",
       "       [145],\n",
       "       [150],\n",
       "       [178],\n",
       "       [163],\n",
       "       [172],\n",
       "       [178],\n",
       "       [199],\n",
       "       [199],\n",
       "       [184],\n",
       "       [162],\n",
       "       [146],\n",
       "       [166],\n",
       "       [171],\n",
       "       [180],\n",
       "       [193],\n",
       "       [181],\n",
       "       [183],\n",
       "       [218],\n",
       "       [230],\n",
       "       [242],\n",
       "       [209],\n",
       "       [191],\n",
       "       [172],\n",
       "       [194],\n",
       "       [196],\n",
       "       [196],\n",
       "       [236],\n",
       "       [235],\n",
       "       [229],\n",
       "       [243],\n",
       "       [264],\n",
       "       [272],\n",
       "       [237],\n",
       "       [211],\n",
       "       [180],\n",
       "       [201],\n",
       "       [204],\n",
       "       [188],\n",
       "       [235],\n",
       "       [227],\n",
       "       [234],\n",
       "       [264],\n",
       "       [302],\n",
       "       [293],\n",
       "       [259],\n",
       "       [229],\n",
       "       [203],\n",
       "       [229],\n",
       "       [242],\n",
       "       [233],\n",
       "       [267],\n",
       "       [269],\n",
       "       [270],\n",
       "       [315],\n",
       "       [364],\n",
       "       [347],\n",
       "       [312],\n",
       "       [274],\n",
       "       [237],\n",
       "       [278],\n",
       "       [284],\n",
       "       [277],\n",
       "       [317],\n",
       "       [313],\n",
       "       [318],\n",
       "       [374],\n",
       "       [413],\n",
       "       [405],\n",
       "       [355],\n",
       "       [306],\n",
       "       [271],\n",
       "       [306],\n",
       "       [315],\n",
       "       [301],\n",
       "       [356],\n",
       "       [348],\n",
       "       [355],\n",
       "       [422],\n",
       "       [465],\n",
       "       [467],\n",
       "       [404],\n",
       "       [347],\n",
       "       [305],\n",
       "       [336],\n",
       "       [340],\n",
       "       [318],\n",
       "       [362],\n",
       "       [348],\n",
       "       [363],\n",
       "       [435],\n",
       "       [491],\n",
       "       [505],\n",
       "       [404],\n",
       "       [359],\n",
       "       [310],\n",
       "       [337],\n",
       "       [360],\n",
       "       [342],\n",
       "       [406],\n",
       "       [396],\n",
       "       [420],\n",
       "       [472],\n",
       "       [548],\n",
       "       [559],\n",
       "       [463],\n",
       "       [407],\n",
       "       [362],\n",
       "       [405],\n",
       "       [417],\n",
       "       [391],\n",
       "       [419],\n",
       "       [461],\n",
       "       [472],\n",
       "       [535],\n",
       "       [622],\n",
       "       [606],\n",
       "       [508],\n",
       "       [461],\n",
       "       [390],\n",
       "       [432]], dtype=int64)"
      ]
     },
     "execution_count": 25,
     "metadata": {},
     "output_type": "execute_result"
    }
   ],
   "source": [
    "df = pd.read_csv(\"airline-passengers.csv\")\n",
    "df = df[\"Passengers\"]\n",
    "df = np.array(df).reshape(-1,1)\n",
    "df"
   ]
  },
  {
   "cell_type": "code",
   "execution_count": 26,
   "id": "6642c489",
   "metadata": {},
   "outputs": [
    {
     "data": {
      "text/plain": [
       "(144, 1)"
      ]
     },
     "execution_count": 26,
     "metadata": {},
     "output_type": "execute_result"
    }
   ],
   "source": [
    "df.shape"
   ]
  },
  {
   "cell_type": "code",
   "execution_count": 27,
   "id": "dac3ecc7",
   "metadata": {},
   "outputs": [
    {
     "data": {
      "text/plain": [
       "(0.0, 1.0)"
      ]
     },
     "execution_count": 27,
     "metadata": {},
     "output_type": "execute_result"
    }
   ],
   "source": [
    "sc = MinMaxScaler()\n",
    "df = sc.fit_transform(df)\n",
    "df.min(), df.max()"
   ]
  },
  {
   "cell_type": "code",
   "execution_count": 28,
   "id": "dc79c2fc",
   "metadata": {},
   "outputs": [],
   "source": [
    "train = 93\n",
    "test = 51\n",
    "train, test = df[0:train,:], df[train:len(df),:]"
   ]
  },
  {
   "cell_type": "code",
   "execution_count": 29,
   "id": "2b8de07e",
   "metadata": {},
   "outputs": [
    {
     "name": "stdout",
     "output_type": "stream",
     "text": [
      "(93, 1)\n",
      "(51, 1)\n"
     ]
    }
   ],
   "source": [
    "print(train.shape)\n",
    "print(test.shape)"
   ]
  },
  {
   "cell_type": "code",
   "execution_count": 30,
   "id": "4c7cece8",
   "metadata": {},
   "outputs": [],
   "source": [
    "def get_data(df, look_back):\n",
    "    dataX, dataY = [],[]\n",
    "    for i in range(len(df) - look_back- 1):\n",
    "        a = df[i:(i + look_back), 0]\n",
    "        dataX.append(a)\n",
    "        dataY.append(df[i + look_back, 0])\n",
    "    return np.array(dataX), np.array(dataY)"
   ]
  },
  {
   "cell_type": "code",
   "execution_count": 31,
   "id": "15e100bb",
   "metadata": {},
   "outputs": [],
   "source": [
    "look_back = 1\n",
    "x_train, y_train = get_data(train, look_back)"
   ]
  },
  {
   "cell_type": "code",
   "execution_count": 32,
   "id": "4b7f27f1",
   "metadata": {},
   "outputs": [
    {
     "name": "stdout",
     "output_type": "stream",
     "text": [
      "(91, 1)\n",
      "(91,)\n"
     ]
    }
   ],
   "source": [
    "print(x_train.shape)\n",
    "print(y_train.shape)"
   ]
  },
  {
   "cell_type": "code",
   "execution_count": 33,
   "id": "9bcca264",
   "metadata": {},
   "outputs": [
    {
     "data": {
      "text/plain": [
       "array([[0.01544402],\n",
       "       [0.02702703],\n",
       "       [0.05405405],\n",
       "       [0.04826255],\n",
       "       [0.03281853],\n",
       "       [0.05984556],\n",
       "       [0.08494208],\n",
       "       [0.08494208],\n",
       "       [0.06177606],\n",
       "       [0.02895753],\n",
       "       [0.        ],\n",
       "       [0.02702703],\n",
       "       [0.02123552],\n",
       "       [0.04247104],\n",
       "       [0.07142857],\n",
       "       [0.05984556],\n",
       "       [0.04054054],\n",
       "       [0.08687259],\n",
       "       [0.12741313],\n",
       "       [0.12741313],\n",
       "       [0.1042471 ],\n",
       "       [0.05598456],\n",
       "       [0.01930502],\n",
       "       [0.06949807],\n",
       "       [0.07915058],\n",
       "       [0.08880309],\n",
       "       [0.14285714],\n",
       "       [0.11389961],\n",
       "       [0.13127413],\n",
       "       [0.14285714],\n",
       "       [0.18339768],\n",
       "       [0.18339768],\n",
       "       [0.15444015],\n",
       "       [0.11196911],\n",
       "       [0.08108108],\n",
       "       [0.11969112],\n",
       "       [0.12934363],\n",
       "       [0.14671815],\n",
       "       [0.17181467],\n",
       "       [0.14864865],\n",
       "       [0.15250965],\n",
       "       [0.22007722],\n",
       "       [0.24324324],\n",
       "       [0.26640927],\n",
       "       [0.2027027 ],\n",
       "       [0.16795367],\n",
       "       [0.13127413],\n",
       "       [0.17374517],\n",
       "       [0.17760618],\n",
       "       [0.17760618],\n",
       "       [0.25482625],\n",
       "       [0.25289575],\n",
       "       [0.24131274],\n",
       "       [0.26833977],\n",
       "       [0.30888031],\n",
       "       [0.32432432],\n",
       "       [0.25675676],\n",
       "       [0.20656371],\n",
       "       [0.14671815],\n",
       "       [0.18725869],\n",
       "       [0.19305019],\n",
       "       [0.16216216],\n",
       "       [0.25289575],\n",
       "       [0.23745174],\n",
       "       [0.25096525],\n",
       "       [0.30888031],\n",
       "       [0.38223938],\n",
       "       [0.36486486],\n",
       "       [0.2992278 ],\n",
       "       [0.24131274],\n",
       "       [0.19111969],\n",
       "       [0.24131274],\n",
       "       [0.26640927],\n",
       "       [0.24903475],\n",
       "       [0.31467181],\n",
       "       [0.31853282],\n",
       "       [0.32046332],\n",
       "       [0.40733591],\n",
       "       [0.5019305 ],\n",
       "       [0.46911197],\n",
       "       [0.4015444 ],\n",
       "       [0.32818533],\n",
       "       [0.25675676],\n",
       "       [0.33590734],\n",
       "       [0.34749035],\n",
       "       [0.33397683],\n",
       "       [0.41119691],\n",
       "       [0.4034749 ],\n",
       "       [0.41312741],\n",
       "       [0.52123552],\n",
       "       [0.5965251 ]])"
      ]
     },
     "execution_count": 33,
     "metadata": {},
     "output_type": "execute_result"
    }
   ],
   "source": [
    "x_train"
   ]
  },
  {
   "cell_type": "code",
   "execution_count": 34,
   "id": "60ba5dda",
   "metadata": {},
   "outputs": [
    {
     "data": {
      "text/plain": [
       "array([0.02702703, 0.05405405, 0.04826255, 0.03281853, 0.05984556,\n",
       "       0.08494208, 0.08494208, 0.06177606, 0.02895753, 0.        ,\n",
       "       0.02702703, 0.02123552, 0.04247104, 0.07142857, 0.05984556,\n",
       "       0.04054054, 0.08687259, 0.12741313, 0.12741313, 0.1042471 ,\n",
       "       0.05598456, 0.01930502, 0.06949807, 0.07915058, 0.08880309,\n",
       "       0.14285714, 0.11389961, 0.13127413, 0.14285714, 0.18339768,\n",
       "       0.18339768, 0.15444015, 0.11196911, 0.08108108, 0.11969112,\n",
       "       0.12934363, 0.14671815, 0.17181467, 0.14864865, 0.15250965,\n",
       "       0.22007722, 0.24324324, 0.26640927, 0.2027027 , 0.16795367,\n",
       "       0.13127413, 0.17374517, 0.17760618, 0.17760618, 0.25482625,\n",
       "       0.25289575, 0.24131274, 0.26833977, 0.30888031, 0.32432432,\n",
       "       0.25675676, 0.20656371, 0.14671815, 0.18725869, 0.19305019,\n",
       "       0.16216216, 0.25289575, 0.23745174, 0.25096525, 0.30888031,\n",
       "       0.38223938, 0.36486486, 0.2992278 , 0.24131274, 0.19111969,\n",
       "       0.24131274, 0.26640927, 0.24903475, 0.31467181, 0.31853282,\n",
       "       0.32046332, 0.40733591, 0.5019305 , 0.46911197, 0.4015444 ,\n",
       "       0.32818533, 0.25675676, 0.33590734, 0.34749035, 0.33397683,\n",
       "       0.41119691, 0.4034749 , 0.41312741, 0.52123552, 0.5965251 ,\n",
       "       0.58108108])"
      ]
     },
     "execution_count": 34,
     "metadata": {},
     "output_type": "execute_result"
    }
   ],
   "source": [
    "y_train"
   ]
  },
  {
   "cell_type": "code",
   "execution_count": null,
   "id": "af02bf53",
   "metadata": {},
   "outputs": [],
   "source": [
    "x_test, y_test = get_data(test, look_back)"
   ]
  },
  {
   "cell_type": "code",
   "execution_count": null,
   "id": "423dfaff",
   "metadata": {},
   "outputs": [],
   "source": [
    "print(x_test.shape)\n",
    "print(y_test.shape)"
   ]
  },
  {
   "cell_type": "code",
   "execution_count": null,
   "id": "ebd07f69",
   "metadata": {},
   "outputs": [],
   "source": [
    "x_test"
   ]
  },
  {
   "cell_type": "code",
   "execution_count": null,
   "id": "2eb3ef08",
   "metadata": {},
   "outputs": [],
   "source": [
    "y_test"
   ]
  },
  {
   "cell_type": "code",
   "execution_count": null,
   "id": "3e131796",
   "metadata": {},
   "outputs": [],
   "source": [
    "x_train = x_train.reshape(x_train.shape[0], x_train.shape[1], 1)\n",
    "x_test = x_test.reshape(x_test.shape[0], x_test.shape[1], 1)"
   ]
  },
  {
   "cell_type": "code",
   "execution_count": null,
   "id": "c1b1f40e",
   "metadata": {},
   "outputs": [],
   "source": [
    "print(x_train.shape)\n",
    "print(x_test.shape)"
   ]
  },
  {
   "cell_type": "code",
   "execution_count": null,
   "id": "de6c3805",
   "metadata": {},
   "outputs": [],
   "source": [
    "model = Sequential()\n",
    "model.add(LSTM(1, input_shape = (1, look_back)))\n",
    "model.add(Dense(1))\n",
    "model.compile(loss = \"mean_squared_error\", optimizer = \"sgd\", metrics = [\"accuracy\"])"
   ]
  },
  {
   "cell_type": "code",
   "execution_count": null,
   "id": "5380ce94",
   "metadata": {},
   "outputs": [],
   "source": [
    "model.summary()"
   ]
  },
  {
   "cell_type": "code",
   "execution_count": null,
   "id": "e3abe0b0",
   "metadata": {},
   "outputs": [],
   "source": [
    "model.fit(x_train, y_train, epochs = 50, batch_size = 1, validation_data = (x_test, y_test))"
   ]
  },
  {
   "cell_type": "code",
   "execution_count": null,
   "id": "a975402c",
   "metadata": {},
   "outputs": [],
   "source": [
    "y_pred = model.predict(x_test)"
   ]
  },
  {
   "cell_type": "code",
   "execution_count": null,
   "id": "3d754884",
   "metadata": {},
   "outputs": [],
   "source": [
    "y_pred = sc.inverse_transform(y_pred)"
   ]
  },
  {
   "cell_type": "code",
   "execution_count": null,
   "id": "405363ad",
   "metadata": {},
   "outputs": [],
   "source": [
    "y_test = np.array(y_test)\n",
    "y_test = y_test.reshape(-1,1)\n",
    "y_test = sc.inverse_transform(y_test)"
   ]
  },
  {
   "cell_type": "code",
   "execution_count": null,
   "id": "0e67a879",
   "metadata": {},
   "outputs": [],
   "source": [
    "plt.figure(figsize = (14,5))\n",
    "plt.plot(y_test, label = \"Actual Number of Passengers\")\n",
    "plt.plot(y_pred, label = \"Predicted Number of Passengers\")\n",
    "plt.ylabel(\"Number of Passengers\")\n",
    "plt.legend()\n",
    "plt.show()"
   ]
  },
  {
   "cell_type": "code",
   "execution_count": null,
   "id": "268c6e8f",
   "metadata": {},
   "outputs": [],
   "source": []
  }
 ],
 "metadata": {
  "kernelspec": {
   "display_name": "Python 3 (ipykernel)",
   "language": "python",
   "name": "python3"
  },
  "language_info": {
   "codemirror_mode": {
    "name": "ipython",
    "version": 3
   },
   "file_extension": ".py",
   "mimetype": "text/x-python",
   "name": "python",
   "nbconvert_exporter": "python",
   "pygments_lexer": "ipython3",
   "version": "3.9.7"
  }
 },
 "nbformat": 4,
 "nbformat_minor": 5
}
