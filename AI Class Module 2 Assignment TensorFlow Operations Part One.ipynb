{
 "cells": [
  {
   "cell_type": "code",
   "execution_count": 1,
   "id": "c3e3ff87",
   "metadata": {},
   "outputs": [],
   "source": [
    "import tensorflow as tf"
   ]
  },
  {
   "cell_type": "code",
   "execution_count": 2,
   "id": "2af86fd9",
   "metadata": {},
   "outputs": [],
   "source": [
    "tf.compat.v1.disable_eager_execution()"
   ]
  },
  {
   "cell_type": "code",
   "execution_count": 3,
   "id": "7db017f1",
   "metadata": {},
   "outputs": [
    {
     "name": "stdout",
     "output_type": "stream",
     "text": [
      "15.0\n"
     ]
    }
   ],
   "source": [
    "a = tf.constant(5.0, dtype = tf.float32)\n",
    "b = tf.constant(10.0, dtype = tf.float32)\n",
    "add  = a + b\n",
    "sess = tf.compat.v1.Session()\n",
    "print(sess.run(add))"
   ]
  },
  {
   "cell_type": "code",
   "execution_count": 4,
   "id": "c080739a",
   "metadata": {},
   "outputs": [
    {
     "name": "stdout",
     "output_type": "stream",
     "text": [
      "4.0\n"
     ]
    }
   ],
   "source": [
    "a = tf.constant(12.0, dtype = tf.float32)\n",
    "b = tf.constant(8.0, dtype = tf.float32)\n",
    "sub  = a - b\n",
    "sess = tf.compat.v1.Session()\n",
    "print(sess.run(sub))"
   ]
  },
  {
   "cell_type": "code",
   "execution_count": 5,
   "id": "442e71fd",
   "metadata": {},
   "outputs": [
    {
     "name": "stdout",
     "output_type": "stream",
     "text": [
      "b'Hello World!!'\n"
     ]
    }
   ],
   "source": [
    "H = tf.constant(\"Hello \")\n",
    "W = tf.constant(\"World!!\")\n",
    "HW = H + W\n",
    "sess = tf.compat.v1.Session()\n",
    "print(sess.run(HW))"
   ]
  }
 ],
 "metadata": {
  "kernelspec": {
   "display_name": "Python 3 (ipykernel)",
   "language": "python",
   "name": "python3"
  },
  "language_info": {
   "codemirror_mode": {
    "name": "ipython",
    "version": 3
   },
   "file_extension": ".py",
   "mimetype": "text/x-python",
   "name": "python",
   "nbconvert_exporter": "python",
   "pygments_lexer": "ipython3",
   "version": "3.9.7"
  }
 },
 "nbformat": 4,
 "nbformat_minor": 5
}
