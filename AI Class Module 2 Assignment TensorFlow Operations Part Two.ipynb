{
 "cells": [
  {
   "cell_type": "code",
   "execution_count": 1,
   "id": "3caa20a8",
   "metadata": {},
   "outputs": [],
   "source": [
    "import tensorflow as tf\n",
    "import numpy as np"
   ]
  },
  {
   "cell_type": "code",
   "execution_count": 2,
   "id": "fa51e77e",
   "metadata": {},
   "outputs": [],
   "source": [
    "a = tf.constant(\"Hello \")\n",
    "b = tf.constant(\"World!!\")"
   ]
  },
  {
   "cell_type": "code",
   "execution_count": 3,
   "id": "c1c160ce",
   "metadata": {},
   "outputs": [
    {
     "name": "stdout",
     "output_type": "stream",
     "text": [
      "Hello World!!\r\n"
     ]
    }
   ],
   "source": [
    "result = a + b\n",
    "tf.print(result)"
   ]
  },
  {
   "cell_type": "code",
   "execution_count": 4,
   "id": "40ad007a",
   "metadata": {},
   "outputs": [],
   "source": [
    "m = tf.Variable([16], tf.int32)\n",
    "c = tf.Variable([12], tf.int32)"
   ]
  },
  {
   "cell_type": "code",
   "execution_count": 5,
   "id": "1ce7df93",
   "metadata": {},
   "outputs": [],
   "source": [
    "def linear_model(x):\n",
    "    return m*x + c"
   ]
  },
  {
   "cell_type": "code",
   "execution_count": 6,
   "id": "0a919bf6",
   "metadata": {},
   "outputs": [
    {
     "data": {
      "text/plain": [
       "<tf.Tensor: shape=(5,), dtype=int32, numpy=array([ 44,  76, 108, 140, 172])>"
      ]
     },
     "execution_count": 6,
     "metadata": {},
     "output_type": "execute_result"
    }
   ],
   "source": [
    "linear_model(x = [2,4,6,8,10])"
   ]
  }
 ],
 "metadata": {
  "kernelspec": {
   "display_name": "Python 3 (ipykernel)",
   "language": "python",
   "name": "python3"
  },
  "language_info": {
   "codemirror_mode": {
    "name": "ipython",
    "version": 3
   },
   "file_extension": ".py",
   "mimetype": "text/x-python",
   "name": "python",
   "nbconvert_exporter": "python",
   "pygments_lexer": "ipython3",
   "version": "3.9.7"
  }
 },
 "nbformat": 4,
 "nbformat_minor": 5
}
