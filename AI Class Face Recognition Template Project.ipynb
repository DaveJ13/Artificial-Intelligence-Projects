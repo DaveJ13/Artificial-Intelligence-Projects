{
 "cells": [
  {
   "cell_type": "code",
   "execution_count": 7,
   "id": "829473b4",
   "metadata": {},
   "outputs": [],
   "source": [
    "import cv2, glob\n",
    "gimage = glob.glob(\"*.jpg\")\n",
    "detect = cv2.CascadeClassifier(\"haarscascade_frontalface_default.xml\")\n",
    "for timage in gimage:\n",
    "    image = cv2.imread(timage)\n",
    "    grayimg = cv2.cvtColor(image, cv2.COLOR_BGR2GRAY)\n",
    "    face = detect.detectMultiScale(grayimg, 1.25, 3)\n",
    "    for (x,y,w,h) in face:\n",
    "        cv2.rectangle(image, (x,y), (x+w, y+h), (0,255,0), 2)\n",
    "    cv2.imshow(\"detect images\", image)\n",
    "    cv2.waitKey(2000)\n",
    "    cv2.destroyAllWindows()"
   ]
  },
  {
   "cell_type": "code",
   "execution_count": null,
   "id": "b9f3f1c5",
   "metadata": {},
   "outputs": [],
   "source": []
  }
 ],
 "metadata": {
  "kernelspec": {
   "display_name": "Python 3 (ipykernel)",
   "language": "python",
   "name": "python3"
  },
  "language_info": {
   "codemirror_mode": {
    "name": "ipython",
    "version": 3
   },
   "file_extension": ".py",
   "mimetype": "text/x-python",
   "name": "python",
   "nbconvert_exporter": "python",
   "pygments_lexer": "ipython3",
   "version": "3.9.7"
  }
 },
 "nbformat": 4,
 "nbformat_minor": 5
}
