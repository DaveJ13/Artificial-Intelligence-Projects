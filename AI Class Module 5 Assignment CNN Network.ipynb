{
 "cells": [
  {
   "cell_type": "code",
   "execution_count": 15,
   "id": "7a5abad7",
   "metadata": {},
   "outputs": [],
   "source": [
    "import keras\n",
    "from keras import layers\n",
    "from keras.utils import np_utils\n",
    "from keras.datasets import mnist\n",
    "import numpy as np\n",
    "from keras.models import Sequential\n",
    "from keras.layers import Dense, Activation, Flatten, Dropout, BatchNormalization\n",
    "from keras.layers import Conv2D, MaxPooling2D\n",
    "import tensorflow as tf\n",
    "from keras import optimizers"
   ]
  },
  {
   "cell_type": "code",
   "execution_count": 9,
   "id": "2d2c54fd",
   "metadata": {},
   "outputs": [],
   "source": [
    "(x_train, y_train), (x_test, y_test) = mnist.load_data()\n",
    "x_train = x_train.reshape(x_train.shape[0], 28, 28, 1)\n",
    "x_test = x_test.reshape(x_test.shape[0], 28, 28, 1)\n",
    "x_train = x_train.astype(\"float32\")\n",
    "x_test = x_test.astype(\"float32\")"
   ]
  },
  {
   "cell_type": "code",
   "execution_count": 10,
   "id": "78034643",
   "metadata": {},
   "outputs": [],
   "source": [
    "mean = np.mean(x_train, axis = (0,1,2,3))\n",
    "std = np.std(x_train, axis = (0,1,2,3))\n",
    "x_train = (x_train - mean)/ (std + 1e-7)\n",
    "x_test = (x_test - mean)/ (std + 1e-7)"
   ]
  },
  {
   "cell_type": "code",
   "execution_count": 11,
   "id": "69417abe",
   "metadata": {},
   "outputs": [],
   "source": [
    "num_classes = 10\n",
    "y_train = np_utils.to_categorical(y_train, num_classes)\n",
    "y_test = np_utils.to_categorical(y_test, num_classes)"
   ]
  },
  {
   "cell_type": "code",
   "execution_count": 12,
   "id": "e4a94063",
   "metadata": {},
   "outputs": [
    {
     "name": "stdout",
     "output_type": "stream",
     "text": [
      "Model: \"sequential\"\n",
      "_________________________________________________________________\n",
      " Layer (type)                Output Shape              Param #   \n",
      "=================================================================\n",
      " conv2d (Conv2D)             (None, 26, 26, 32)        320       \n",
      "                                                                 \n",
      " batch_normalization (BatchN  (None, 26, 26, 32)       128       \n",
      " ormalization)                                                   \n",
      "                                                                 \n",
      " activation (Activation)     (None, 26, 26, 32)        0         \n",
      "                                                                 \n",
      " conv2d_1 (Conv2D)           (None, 24, 24, 32)        9248      \n",
      "                                                                 \n",
      " batch_normalization_1 (Batc  (None, 24, 24, 32)       128       \n",
      " hNormalization)                                                 \n",
      "                                                                 \n",
      " activation_1 (Activation)   (None, 24, 24, 32)        0         \n",
      "                                                                 \n",
      " max_pooling2d (MaxPooling2D  (None, 12, 12, 32)       0         \n",
      " )                                                               \n",
      "                                                                 \n",
      " conv2d_2 (Conv2D)           (None, 10, 10, 64)        18496     \n",
      "                                                                 \n",
      " batch_normalization_2 (Batc  (None, 10, 10, 64)       256       \n",
      " hNormalization)                                                 \n",
      "                                                                 \n",
      " activation_2 (Activation)   (None, 10, 10, 64)        0         \n",
      "                                                                 \n",
      " conv2d_3 (Conv2D)           (None, 8, 8, 64)          36928     \n",
      "                                                                 \n",
      " batch_normalization_3 (Batc  (None, 8, 8, 64)         256       \n",
      " hNormalization)                                                 \n",
      "                                                                 \n",
      " activation_3 (Activation)   (None, 8, 8, 64)          0         \n",
      "                                                                 \n",
      " max_pooling2d_1 (MaxPooling  (None, 4, 4, 64)         0         \n",
      " 2D)                                                             \n",
      "                                                                 \n",
      " flatten (Flatten)           (None, 1024)              0         \n",
      "                                                                 \n",
      " dense (Dense)               (None, 128)               131200    \n",
      "                                                                 \n",
      " batch_normalization_4 (Batc  (None, 128)              512       \n",
      " hNormalization)                                                 \n",
      "                                                                 \n",
      " activation_4 (Activation)   (None, 128)               0         \n",
      "                                                                 \n",
      " dropout (Dropout)           (None, 128)               0         \n",
      "                                                                 \n",
      " dense_1 (Dense)             (None, 10)                1290      \n",
      "                                                                 \n",
      "=================================================================\n",
      "Total params: 198,762\n",
      "Trainable params: 198,122\n",
      "Non-trainable params: 640\n",
      "_________________________________________________________________\n"
     ]
    }
   ],
   "source": [
    "model = Sequential()\n",
    "\n",
    "model.add(Conv2D(32, (3, 3), input_shape=(28,28,1)))\n",
    "model.add(BatchNormalization(axis=-1))\n",
    "model.add(Activation('relu'))\n",
    "model.add(Conv2D(32, (3, 3)))\n",
    "model.add(BatchNormalization(axis=-1))\n",
    "model.add(Activation('relu'))\n",
    "model.add(MaxPooling2D(pool_size=(2,2)))\n",
    "\n",
    "model.add(Conv2D(64,(3, 3)))\n",
    "model.add(BatchNormalization(axis=-1))\n",
    "model.add(Activation('relu'))\n",
    "model.add(Conv2D(64, (3, 3)))\n",
    "model.add(BatchNormalization(axis=-1))\n",
    "model.add(Activation('relu'))\n",
    "model.add(MaxPooling2D(pool_size=(2,2)))\n",
    "\n",
    "model.add(Flatten())\n",
    "\n",
    "model.add(Dense(128))\n",
    "model.add(BatchNormalization())\n",
    "model.add(Activation('relu'))\n",
    "model.add(Dropout(0.2))\n",
    "model.add(Dense(num_classes, activation = \"softmax\"))\n",
    "\n",
    "model.summary()"
   ]
  },
  {
   "cell_type": "code",
   "execution_count": 36,
   "id": "7344d6f2",
   "metadata": {},
   "outputs": [],
   "source": [
    "from keras.preprocessing.image import ImageDataGenerator\n",
    "datagen = ImageDataGenerator(\n",
    "rotation_range = 15,  \n",
    "width_shift_range = .1,  \n",
    "height_shift_range = .1,\n",
    "horizontal_flip = True) \n",
    "\n",
    "datagen.fit(x_train)"
   ]
  },
  {
   "cell_type": "code",
   "execution_count": 37,
   "id": "a0822de3",
   "metadata": {},
   "outputs": [],
   "source": [
    "model.compile(loss='categorical_crossentropy',\n",
    "              optimizer=\"adam\", \n",
    "              metrics=['accuracy'])"
   ]
  },
  {
   "cell_type": "code",
   "execution_count": 40,
   "id": "d1e05a72",
   "metadata": {},
   "outputs": [
    {
     "name": "stderr",
     "output_type": "stream",
     "text": [
      "C:\\Users\\ADMINI~1\\AppData\\Local\\Temp/ipykernel_25524/4024835136.py:5: UserWarning: `Model.fit_generator` is deprecated and will be removed in a future version. Please use `Model.fit`, which supports generators.\n",
      "  model.fit_generator(datagen.flow(x_train, y_train, batch_size = batch_size),\n"
     ]
    },
    {
     "name": "stdout",
     "output_type": "stream",
     "text": [
      "Epoch 1/12\n",
      "937/937 [==============================] - 258s 273ms/step - loss: 0.3572 - accuracy: 0.8871 - val_loss: 0.0699 - val_accuracy: 0.9765\n",
      "Epoch 2/12\n",
      "937/937 [==============================] - 246s 262ms/step - loss: 0.1897 - accuracy: 0.9422 - val_loss: 0.0563 - val_accuracy: 0.9818\n",
      "Epoch 3/12\n",
      "937/937 [==============================] - 245s 261ms/step - loss: 0.1475 - accuracy: 0.9539 - val_loss: 0.0589 - val_accuracy: 0.9808\n",
      "Epoch 4/12\n",
      "937/937 [==============================] - 242s 258ms/step - loss: 0.1276 - accuracy: 0.9608 - val_loss: 0.0518 - val_accuracy: 0.9837\n",
      "Epoch 5/12\n",
      "937/937 [==============================] - 242s 258ms/step - loss: 0.1135 - accuracy: 0.9654 - val_loss: 0.0500 - val_accuracy: 0.9837\n",
      "Epoch 6/12\n",
      "937/937 [==============================] - 240s 256ms/step - loss: 0.1032 - accuracy: 0.9684 - val_loss: 0.0405 - val_accuracy: 0.9866\n",
      "Epoch 7/12\n",
      "937/937 [==============================] - 234s 250ms/step - loss: 0.0954 - accuracy: 0.9708 - val_loss: 0.0496 - val_accuracy: 0.9833\n",
      "Epoch 8/12\n",
      "937/937 [==============================] - 793s 847ms/step - loss: 0.0904 - accuracy: 0.9719 - val_loss: 0.0446 - val_accuracy: 0.9851\n",
      "Epoch 9/12\n",
      "937/937 [==============================] - 247s 263ms/step - loss: 0.0869 - accuracy: 0.9725 - val_loss: 0.0438 - val_accuracy: 0.9857\n",
      "Epoch 10/12\n",
      "937/937 [==============================] - 244s 261ms/step - loss: 0.0837 - accuracy: 0.9731 - val_loss: 0.0478 - val_accuracy: 0.9846\n",
      "Epoch 11/12\n",
      "937/937 [==============================] - 247s 264ms/step - loss: 0.0781 - accuracy: 0.9762 - val_loss: 0.0401 - val_accuracy: 0.9872\n",
      "Epoch 12/12\n",
      "937/937 [==============================] - 250s 266ms/step - loss: 0.0754 - accuracy: 0.9762 - val_loss: 0.0424 - val_accuracy: 0.9862\n"
     ]
    },
    {
     "data": {
      "text/plain": [
       "<keras.callbacks.History at 0x14ead95c520>"
      ]
     },
     "execution_count": 40,
     "metadata": {},
     "output_type": "execute_result"
    }
   ],
   "source": [
    "batch_size = 64\n",
    "opt_rms = tf.keras.optimizers.RMSprop(lr = .0001, decay = 1e-6)\n",
    "model.compile(loss = \"categorical_crossentropy\", optimizer = opt_rms,\n",
    "             metrics = [\"accuracy\"])\n",
    "model.fit_generator(datagen.flow(x_train, y_train, batch_size = batch_size),\n",
    "                   steps_per_epoch = x_train.shape[0]//batch_size, epochs = 12,\n",
    "                   verbose = 1, validation_data=(x_test, y_test))"
   ]
  },
  {
   "cell_type": "code",
   "execution_count": 41,
   "id": "d41a9b3d",
   "metadata": {},
   "outputs": [
    {
     "name": "stdout",
     "output_type": "stream",
     "text": [
      "79/79 [==============================] - 12s 149ms/step - loss: 0.0424 - accuracy: 0.9862\n",
      "\n",
      "Test Results: 98.620 loss: 0.042\n"
     ]
    }
   ],
   "source": [
    "scores = model.evaluate(x_test, y_test, batch_size = 128, verbose = 1)\n",
    "print('\\nTest Results: %.3f loss: %.3f' %(scores[1]*100,scores[0]))"
   ]
  },
  {
   "cell_type": "code",
   "execution_count": null,
   "id": "cd9e4461",
   "metadata": {},
   "outputs": [],
   "source": []
  }
 ],
 "metadata": {
  "kernelspec": {
   "display_name": "Python 3 (ipykernel)",
   "language": "python",
   "name": "python3"
  },
  "language_info": {
   "codemirror_mode": {
    "name": "ipython",
    "version": 3
   },
   "file_extension": ".py",
   "mimetype": "text/x-python",
   "name": "python",
   "nbconvert_exporter": "python",
   "pygments_lexer": "ipython3",
   "version": "3.9.7"
  }
 },
 "nbformat": 4,
 "nbformat_minor": 5
}
